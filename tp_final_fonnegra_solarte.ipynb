{
  "nbformat": 4,
  "nbformat_minor": 0,
  "metadata": {
    "colab": {
      "provenance": [],
      "include_colab_link": true
    },
    "kernelspec": {
      "name": "python3",
      "display_name": "Python 3"
    },
    "language_info": {
      "name": "python"
    },
    "gpuClass": "standard"
  },
  "cells": [
    {
      "cell_type": "markdown",
      "metadata": {
        "id": "view-in-github",
        "colab_type": "text"
      },
      "source": [
        "<a href=\"https://colab.research.google.com/github/EASC/tvdi_hpc/blob/main/tp_final_fonnegra_solarte.ipynb\" target=\"_parent\"><img src=\"https://colab.research.google.com/assets/colab-badge.svg\" alt=\"Open In Colab\"/></a>"
      ]
    },
    {
      "cell_type": "code",
      "source": [
        "from google.colab import drive\n",
        "drive.mount('/content/gdrive')\n",
        "%cd gdrive/MyDrive/cursos/HPC/tp_final/code"
      ],
      "metadata": {
        "colab": {
          "base_uri": "https://localhost:8080/"
        },
        "id": "hcjrb_oWPbA-",
        "outputId": "132ce4c6-fc68-44d3-8be3-5e63ebdb7fda"
      },
      "execution_count": 1,
      "outputs": [
        {
          "output_type": "stream",
          "name": "stdout",
          "text": [
            "Mounted at /content/gdrive\n",
            "/content/gdrive/MyDrive/cursos/HPC/tp_final/code\n"
          ]
        }
      ]
    },
    {
      "cell_type": "code",
      "source": [
        "from time import time, sleep\n",
        "import multiprocessing as mp\n",
        "import threading as thr\n",
        "import numpy as np\n",
        "from osgeo import gdal\n",
        "from gdalconst import *\n",
        "from scipy import stats\n",
        "import sys\n",
        "import os\n",
        "\n",
        "def load_img(filename):\n",
        "\n",
        "    ds = gdal.Open(filename, gdal.GA_ReadOnly)\n",
        "    sds = ds.GetRasterBand(1)\n",
        "    nodata = sds.GetNoDataValue()\n",
        "    sds_array = sds.ReadAsArray()\n",
        "    sds_array[sds_array==nodata] = np.nan\n",
        "    sds_array = sds_array[:2010, :]\n",
        "    rows, cols = sds_array.shape\n",
        "\n",
        "    dict_data = {'array': sds_array,\n",
        "                 'geoTs': ds.GetGeoTransform(),\n",
        "                 'proj': ds.GetProjection(),\n",
        "                 'rows': rows,\n",
        "                 'cols': cols\n",
        "                 }\n",
        "\n",
        "    return dict_data\n",
        "\n",
        "def save_img(fname, array, rows, cols, geoTs, proj, bands=1, dtype=GDT_Float32):\n",
        "    #Salida de la imagen georreferenciada\n",
        "    driver = gdal.GetDriverByName(\"GTiff\") #Tipo de imagen (geotiff)\n",
        "    print(\"creando imagen\")\n",
        "    #Crear el espacio\n",
        "    export = driver.Create(fname, cols, rows, bands, dtype)\n",
        "    banda = export.GetRasterBand(1) #Cargar la banda creada en el paso anterior\n",
        "    banda.WriteArray(array) #Escribir array en la imagen\n",
        "    export.SetGeoTransform(geoTs) #Asignar los parametros de transformacion\n",
        "    export.SetProjection(proj) #Definir la proyección\n",
        "    banda.FlushCache() #Descargar de la memoria virtual al disco\n",
        "    export.FlushCache() #Descargar de la memoria virtual al disco\n",
        "\n",
        "def extract_dry_limit(ndvi, lst, vmin, vmax, px):\n",
        "    #Valores que están en el delta definido\n",
        "    vals = np.where((ndvi > vmin) & (ndvi <= vmax))\n",
        "    lst_arr = lst[vals]\n",
        "    ndvi_arr = ndvi[vals]\n",
        "        \n",
        "    #Ordenar los valores según mayor temperatura\n",
        "    indices = lst_arr.argsort()\n",
        "    lst_arr = lst_arr[indices]\n",
        "    ndvi_arr = ndvi_arr[indices]\n",
        "    tmin, lst_max, ndvi_max = None, None, None\n",
        "\n",
        "    if len(ndvi_arr)>0:\n",
        "        tmin = lst_arr[0] #Valores bajos de la dispersión (límite húmedo)\n",
        "        lst_max = lst_arr[-px:][0] #Valores altos de la dispersión (límite seco)\n",
        "        ndvi_max = ndvi_arr[-px:][0] #Valor equivalente NDVI (límite seco)\n",
        "    \n",
        "    return tmin, lst_max, ndvi_max\n",
        "\n",
        "def calc_tvdi(q, ndvi, lst, min_ndvi, max_ndvi, delta, px, pos):\n",
        "    #Listas para almacenar los valores de lst y ndvi para la regresión\n",
        "    lst_regr = []\n",
        "    ndvi_regr = []\n",
        "    tmin = []\n",
        "\n",
        "    #Eliminar valores nulos\n",
        "    nan_data = ~np.isnan(lst)\n",
        "    nan_data2 = ~np.isnan(ndvi)\n",
        "    nan_data = nan_data*nan_data2\n",
        "\n",
        "    lst_C_reshape = lst[nan_data]\n",
        "    ndvi_reshape = ndvi[nan_data]\n",
        "    \n",
        "    for v in np.arange(min_ndvi, max_ndvi, delta):\n",
        "        dry_limit = extract_dry_limit(ndvi_reshape, lst_C_reshape, v, v+delta, px)\n",
        "        \n",
        "        if all(dry_limit):\n",
        "            tmin.append(dry_limit[0])\n",
        "            lst_regr.append(dry_limit[1])\n",
        "            ndvi_regr.append(dry_limit[2])\n",
        "    \n",
        "    tmin = np.array(tmin)\n",
        "    lst_regr = np.array(lst_regr)\n",
        "    ndvi_regr = np.array(ndvi_regr)\n",
        "    #Regresión lineal\n",
        "    slope, intercept, r_val, p_val, std_err = stats.linregress(ndvi_regr, lst_regr)\n",
        "\n",
        "    #Cálculo del TVDI\n",
        "    tvdi = (lst - np.mean(tmin)) / (intercept + slope*ndvi - np.mean(tmin))\n",
        "\n",
        "    q.put([tvdi, pos])\n",
        "    \n",
        "def main_tvdi(im_ndvi, im_lst, im_tvdi, w_height=2000, min_ndvi=0, px=1, delta=0.01):\n",
        "    '''\n",
        "    im_ndvi: nombre y ruta de imagen de entrada de NDVI\n",
        "    im_lst: nombre y ruta de imagen de entrada de LST\n",
        "    im_tvdi: nombre y ruta de salida de imagen TVDI\n",
        "    w_height: alto de ventana para cálculo del índice\n",
        "    min_ndvi: límite inferior de corte del histograma para calcular límite seco\n",
        "    px: cantidad de pixeles de LST a tener en cuenta (límite seco)\n",
        "    delta: define el paso durante la iteración\n",
        "    '''\n",
        "    q = mp.Queue()\n",
        "\n",
        "    #cargar imágenes\n",
        "    ndvi = load_img(im_ndvi)\n",
        "    lst = load_img(im_lst)\n",
        "    lst['array'][lst['array']<=0] = np.nan\n",
        "\n",
        "    ################################\n",
        "    array_tvdi = np.empty_like(ndvi['array'])\n",
        "    \n",
        "    #Parámetros\n",
        "    max_ndvi = np.nanmax(ndvi['array'])\n",
        "    process = list()\n",
        "    for i in range(0, ndvi['rows']-w_height+1):\n",
        "        if i%500==0:\n",
        "            print(f'fila {i} a {i + w_height}: calculando deltas')\n",
        "        ndvi_sub = ndvi['array'][i:i+w_height, :]\n",
        "        lst_sub = lst['array'][i:i+w_height, :]\n",
        "        \n",
        "        # t = thr.Thread(target=calc_tvdi, args=(q, ndvi_sub, lst_sub, min_ndvi, max_ndvi, delta, px, i, ))\n",
        "        t = mp.Process(target=calc_tvdi, args=(q, ndvi_sub, lst_sub, min_ndvi, max_ndvi, delta, px, i, ))\n",
        "        t.start()\n",
        "        process.append(t)\n",
        "\n",
        "    for i in range(len(process)):\n",
        "\n",
        "        tvdi_sub, pos = q.get()\n",
        "        \n",
        "        idx = w_height//2\n",
        "\n",
        "        if pos==0:\n",
        "            array_tvdi[:idx+1, :] = tvdi_sub[:idx+1, :]\n",
        "        elif pos+w_height==ndvi['rows']:\n",
        "            array_tvdi[pos+idx:, :] = tvdi_sub[idx:, :]\n",
        "        else:\n",
        "            array_tvdi[pos+idx, :] = tvdi_sub[idx, :]\n",
        "    \n",
        "    for t in process: \n",
        "        t.join()\n",
        "\n",
        "###########################################\n",
        "\n",
        "    save_img(im_tvdi, array_tvdi, ndvi['rows'], ndvi['cols'], ndvi['geoTs'], ndvi['proj'])"
      ],
      "metadata": {
        "id": "JE9RzmTDGa59"
      },
      "execution_count": 15,
      "outputs": []
    },
    {
      "cell_type": "code",
      "source": [
        "if __name__ == '__main__':\n",
        "    a = time()\n",
        "    P = mp.cpu_count()\n",
        "\n",
        "    ndvi_fn = '../data/input/ndvi_2022209_500m.tif'\n",
        "    lst_fn = '../data/input/lst_Celsius_2022209_500m.tif'\n",
        "    output_tvdi = '../data/output/tvdi_2022209_500m_fn_op.tif'\n",
        "    main_tvdi(ndvi_fn, lst_fn, output_tvdi)\n",
        "    b = time()\n",
        "    print(f'Ejecución finalizada en {b - a} segundos')"
      ],
      "metadata": {
        "id": "fTJbgQBXqYUe",
        "outputId": "0a12491d-3686-4f82-e85c-cbecfdb2eb36",
        "colab": {
          "base_uri": "https://localhost:8080/"
        }
      },
      "execution_count": 16,
      "outputs": [
        {
          "output_type": "stream",
          "name": "stdout",
          "text": [
            "fila 0 a 2000: calculando deltas\n",
            "creando imagen\n",
            "Ejecución finalizada en 12.80885624885559 segundos\n"
          ]
        }
      ]
    },
    {
      "cell_type": "code",
      "source": [
        "import matplotlib.pyplot as plt\n",
        "\n",
        "ds = gdal.Open('../data/output/tvdi_2022209_500m_fn_op.tif')\n",
        "ds2 = gdal.Open('../data/output/tvdi_2022209_500m_fn2.tif')\n",
        "sds = ds.ReadAsArray()\n",
        "sds2 = ds2.ReadAsArray()\n",
        "\n",
        "plt.scatter(sds.flatten(), sds2.flatten())\n",
        "plt.show()"
      ],
      "metadata": {
        "id": "fmJgIXZTYV1f",
        "outputId": "ad404a02-acd8-47bc-d5a3-e82b21cf9b78",
        "colab": {
          "base_uri": "https://localhost:8080/",
          "height": 269
        }
      },
      "execution_count": 17,
      "outputs": [
        {
          "output_type": "display_data",
          "data": {
            "text/plain": [
              "<Figure size 432x288 with 1 Axes>"
            ],
            "image/png": "[encoded data removed]"
          },
          "metadata": {
            "needs_background": "light"
          }
        }
      ]
    },
    {
      "cell_type": "code",
      "source": [
        "from time import time, sleep\n",
        "import multiprocessing as mp\n",
        "import threading as thr\n",
        "import numpy as np\n",
        "from osgeo import gdal\n",
        "from gdalconst import *\n",
        "from scipy import stats\n",
        "import sys\n",
        "import os\n",
        "\n",
        "def load_img(filename):\n",
        "\n",
        "    ds = gdal.Open(filename, gdal.GA_ReadOnly)\n",
        "    sds = ds.GetRasterBand(1)\n",
        "    nodata = sds.GetNoDataValue()\n",
        "    sds_array = sds.ReadAsArray()\n",
        "    sds_array[sds_array==nodata] = np.nan\n",
        "    sds_array = sds_array[:2010, :]\n",
        "    rows, cols = sds_array.shape\n",
        "\n",
        "    dict_data = {'array': sds_array,\n",
        "                 'geoTs': ds.GetGeoTransform(),\n",
        "                 'proj': ds.GetProjection(),\n",
        "                 'rows': rows,\n",
        "                 'cols': cols\n",
        "                 }\n",
        "\n",
        "    return dict_data\n",
        "\n",
        "def save_img(fname, array, rows, cols, geoTs, proj, bands=1, dtype=GDT_Float32):\n",
        "    #Salida de la imagen georreferenciada\n",
        "    driver = gdal.GetDriverByName(\"GTiff\") #Tipo de imagen (geotiff)\n",
        "    print(\"creando imagen\")\n",
        "    #Crear el espacio\n",
        "    export = driver.Create(fname, cols, rows, bands, dtype)\n",
        "    banda = export.GetRasterBand(1) #Cargar la banda creada en el paso anterior\n",
        "    banda.WriteArray(array) #Escribir array en la imagen\n",
        "    export.SetGeoTransform(geoTs) #Asignar los parametros de transformacion\n",
        "    export.SetProjection(proj) #Definir la proyección\n",
        "    banda.FlushCache() #Descargar de la memoria virtual al disco\n",
        "    export.FlushCache() #Descargar de la memoria virtual al disco\n",
        "\n",
        "def extract_dry_limit(ndvi, lst, vmin, vmax, px):\n",
        "    #Valores que están en el delta definido\n",
        "    vals = np.where((ndvi > vmin) & (ndvi <= vmax))\n",
        "    lst_arr = lst[vals]\n",
        "    ndvi_arr = ndvi[vals]\n",
        "        \n",
        "    #Ordenar los valores según mayor temperatura\n",
        "    indices = lst_arr.argsort()\n",
        "    lst_arr = lst_arr[indices]\n",
        "    ndvi_arr = ndvi_arr[indices]\n",
        "    tmin, lst_max, ndvi_max = None, None, None\n",
        "\n",
        "    if len(ndvi_arr)>0:\n",
        "        tmin = lst_arr[0] #Valores bajos de la dispersión (límite húmedo)\n",
        "        lst_max = lst_arr[-px:][0] #Valores altos de la dispersión (límite seco)\n",
        "        ndvi_max = ndvi_arr[-px:][0] #Valor equivalente NDVI (límite seco)\n",
        "    \n",
        "    return tmin, lst_max, ndvi_max\n",
        "\n",
        "def calc_tvdi(q, ndvi, lst, min_ndvi, max_ndvi, delta, px, pos):\n",
        "    #Listas para almacenar los valores de lst y ndvi para la regresión\n",
        "    lst_regr = []\n",
        "    ndvi_regr = []\n",
        "    tmin = []\n",
        "\n",
        "    #Eliminar valores nulos\n",
        "    nan_data = ~np.isnan(lst)\n",
        "    nan_data2 = ~np.isnan(ndvi)\n",
        "    nan_data = nan_data*nan_data2\n",
        "\n",
        "    lst_C_reshape = lst[nan_data]\n",
        "    ndvi_reshape = ndvi[nan_data]\n",
        "    \n",
        "    for v in np.arange(min_ndvi, max_ndvi, delta):\n",
        "        dry_limit = extract_dry_limit(ndvi_reshape, lst_C_reshape, v, v+delta, px)\n",
        "        \n",
        "        if all(dry_limit):\n",
        "            tmin.append(dry_limit[0])\n",
        "            lst_regr.append(dry_limit[1])\n",
        "            ndvi_regr.append(dry_limit[2])\n",
        "    \n",
        "    tmin = np.array(tmin)\n",
        "    lst_regr = np.array(lst_regr)\n",
        "    ndvi_regr = np.array(ndvi_regr)\n",
        "    #Regresión lineal\n",
        "    slope, intercept, r_val, p_val, std_err = stats.linregress(ndvi_regr, lst_regr)\n",
        "\n",
        "    #Cálculo del TVDI\n",
        "    tvdi = (lst - np.mean(tmin)) / (intercept + slope*ndvi - np.mean(tmin))\n",
        "\n",
        "    q.put([tvdi, pos])\n",
        "    \n",
        "def main_tvdi_thr(im_ndvi, im_lst, im_tvdi, w_height=2000, min_ndvi=0, px=1, delta=0.01):\n",
        "    '''\n",
        "    im_ndvi: nombre y ruta de imagen de entrada de NDVI\n",
        "    im_lst: nombre y ruta de imagen de entrada de LST\n",
        "    im_tvdi: nombre y ruta de salida de imagen TVDI\n",
        "    w_height: alto de ventana para cálculo del índice\n",
        "    min_ndvi: límite inferior de corte del histograma para calcular límite seco\n",
        "    px: cantidad de pixeles de LST a tener en cuenta (límite seco)\n",
        "    delta: define el paso durante la iteración\n",
        "    '''\n",
        "    q = mp.Queue()\n",
        "\n",
        "    #cargar imágenes\n",
        "    ndvi = load_img(im_ndvi)\n",
        "    lst = load_img(im_lst)\n",
        "    lst['array'][lst['array']<=0] = np.nan\n",
        "\n",
        "    ################################\n",
        "    array_tvdi = np.empty_like(ndvi['array'])\n",
        "    \n",
        "    #Parámetros\n",
        "    max_ndvi = np.nanmax(ndvi['array'])\n",
        "    process = list()\n",
        "    for i in range(0, ndvi['rows']-w_height+1):\n",
        "        if i%500==0:\n",
        "            print(f'fila {i} a {i + w_height}: calculando deltas')\n",
        "        ndvi_sub = ndvi['array'][i:i+w_height, :]\n",
        "        lst_sub = lst['array'][i:i+w_height, :]\n",
        "        \n",
        "        t = thr.Thread(target=calc_tvdi, args=(q, ndvi_sub, lst_sub, min_ndvi, max_ndvi, delta, px, i, ))\n",
        "        # t = mp.Process(target=calc_tvdi, args=(q, ndvi_sub, lst_sub, min_ndvi, max_ndvi, delta, px, i, ))\n",
        "        t.start()\n",
        "        process.append(t)\n",
        "\n",
        "    for i in range(len(process)):\n",
        "\n",
        "        tvdi_sub, pos = q.get()\n",
        "        \n",
        "        idx = w_height//2\n",
        "\n",
        "        if pos==0:\n",
        "            array_tvdi[:idx+1, :] = tvdi_sub[:idx+1, :]\n",
        "        elif pos+w_height==ndvi['rows']:\n",
        "            array_tvdi[pos+idx:, :] = tvdi_sub[idx:, :]\n",
        "        else:\n",
        "            array_tvdi[pos+idx, :] = tvdi_sub[idx, :]\n",
        "    \n",
        "    for t in process: \n",
        "        t.join()\n",
        "\n",
        "###########################################\n",
        "\n",
        "    save_img(im_tvdi, array_tvdi, ndvi['rows'], ndvi['cols'], ndvi['geoTs'], ndvi['proj'])"
      ],
      "metadata": {
        "id": "EYgVhUmnY6xw"
      },
      "execution_count": 18,
      "outputs": []
    },
    {
      "cell_type": "code",
      "source": [
        "if __name__ == '__main__':\n",
        "    a = time()\n",
        "    P = mp.cpu_count()\n",
        "\n",
        "    ndvi_fn = '../data/input/ndvi_2022209_500m.tif'\n",
        "    lst_fn = '../data/input/lst_Celsius_2022209_500m.tif'\n",
        "    output_tvdi = '../data/output/tvdi_2022209_500m_fn_op_thr.tif'\n",
        "    main_tvdi_thr(ndvi_fn, lst_fn, output_tvdi)\n",
        "    b = time()\n",
        "    print(f'Ejecución finalizada en {b - a} segundos')"
      ],
      "metadata": {
        "id": "QPvATrMFaY3q",
        "outputId": "77912b38-647a-4d4b-fb4b-690e1eaadd66",
        "colab": {
          "base_uri": "https://localhost:8080/"
        }
      },
      "execution_count": 19,
      "outputs": [
        {
          "output_type": "stream",
          "name": "stdout",
          "text": [
            "fila 0 a 2000: calculando deltas\n",
            "creando imagen\n",
            "Ejecución finalizada en 12.391677856445312 segundos\n"
          ]
        }
      ]
    },
    {
      "cell_type": "code",
      "source": [
        "import matplotlib.pyplot as plt\n",
        "\n",
        "ds = gdal.Open('../data/output/tvdi_2022209_500m_fn_op_thr.tif')\n",
        "ds2 = gdal.Open('../data/output/tvdi_2022209_500m_fn2.tif')\n",
        "sds = ds.ReadAsArray()\n",
        "sds2 = ds2.ReadAsArray()\n",
        "\n",
        "plt.scatter(sds.flatten(), sds2.flatten())\n",
        "plt.show()"
      ],
      "metadata": {
        "id": "-5dNtRZLakkR",
        "outputId": "f9d3c95b-1d06-4b56-f123-fb191938d6aa",
        "colab": {
          "base_uri": "https://localhost:8080/",
          "height": 269
        }
      },
      "execution_count": 20,
      "outputs": [
        {
          "output_type": "display_data",
          "data": {
            "text/plain": [
              "<Figure size 432x288 with 1 Axes>"
            ],
            "image/png": "[encoded data removed]"
          },
          "metadata": {
            "needs_background": "light"
          }
        }
      ]
    }
  ]
}