{
  "nbformat": 4,
  "nbformat_minor": 0,
  "metadata": {
    "colab": {
      "provenance": [],
      "authorship_tag": "ABX9TyNeX6Siy9gDiBpmmYtXuW42",
      "include_colab_link": true
    },
    "kernelspec": {
      "name": "python3",
      "display_name": "Python 3"
    },
    "language_info": {
      "name": "python"
    },
    "gpuClass": "standard"
  },
  "cells": [
    {
      "cell_type": "markdown",
      "metadata": {
        "id": "view-in-github",
        "colab_type": "text"
      },
      "source": [
        "<a href=\"https://colab.research.google.com/github/EASC/tvdi_hpc/blob/main/tp_final_fonnegra_solarte.ipynb\" target=\"_parent\"><img src=\"https://colab.research.google.com/assets/colab-badge.svg\" alt=\"Open In Colab\"/></a>"
      ]
    },
    {
      "cell_type": "code",
      "source": [
        "from google.colab import drive\n",
        "drive.mount('/content/gdrive')\n",
        "%cd gdrive/MyDrive/cursos/HPC/tp_final/code"
      ],
      "metadata": {
        "colab": {
          "base_uri": "https://localhost:8080/"
        },
        "id": "hcjrb_oWPbA-",
        "outputId": "49a3d972-cd5b-4e50-8bc2-46df8e3b70db"
      },
      "execution_count": 13,
      "outputs": [
        {
          "output_type": "stream",
          "name": "stdout",
          "text": [
            "Drive already mounted at /content/gdrive; to attempt to forcibly remount, call drive.mount(\"/content/gdrive\", force_remount=True).\n",
            "[Errno 2] No such file or directory: 'gdrive/MyDrive/cursos/HPC/tp_final/code'\n",
            "/content/gdrive/MyDrive/cursos/HPC/tp_final/code\n"
          ]
        }
      ]
    },
    {
      "cell_type": "code",
      "execution_count": 2,
      "metadata": {
        "id": "WwGwNWpHORlA"
      },
      "outputs": [],
      "source": [
        "#!/usr/bin/env python3\n",
        "# -*- coding: utf-8 -*-\n",
        "\n",
        "import numpy as np\n",
        "from osgeo import gdal\n",
        "from gdalconst import *\n",
        "from scipy import stats\n",
        "import sys\n",
        "import os\n",
        "\n",
        "def main_tvdi(img_ndvi, img_lst, salida_tvdi):\n",
        "    #cargar imágenes\n",
        "    ds_ndvi = gdal.Open(img_ndvi)\n",
        "    sds_ndvi = ds_ndvi.GetRasterBand(1)\n",
        "    matriz_ndvi = sds_ndvi.ReadAsArray()\n",
        "    matriz_ndvi[matriz_ndvi==sds_ndvi.GetNoDataValue()]=np.nan\n",
        "\n",
        "    ds_lst = gdal.Open(img_lst)\n",
        "    sds_lst = ds_lst.GetRasterBand(1)\n",
        "    matriz_lst = sds_lst.ReadAsArray()\n",
        "    matriz_lst[matriz_lst==sds_lst.GetNoDataValue()]=np.nan\n",
        "    matriz_lst[matriz_lst<=0]=np.nan\n",
        "\n",
        "    ################################\n",
        "    filas = matriz_lst.shape[0]\n",
        "    cols = matriz_lst.shape[1]\n",
        "    matriz_tvdi = np.zeros((filas,cols))\n",
        "    ancho_filas = 2000\n",
        "\n",
        "    #Parámetros\n",
        "    min_ndvi = 0. #límite inferior de corte del histograma para calcular la línea de lst\n",
        "    cant_px = 1 #Cantidad de píxeles a tomar de cada delta (10%)\n",
        "    max_ndvi = np.nanmax(matriz_ndvi)\n",
        "    delta = 0.01\n",
        "\n",
        "    for i in range(0,filas-ancho_filas,1):\n",
        "        matriz_ndvi_sub = matriz_ndvi[i:i+ancho_filas,:]\n",
        "        matriz_lst_sub = matriz_lst[i:i+ancho_filas,:]\n",
        "        \n",
        "        #Eliminar valores nulos\n",
        "        nan_data = ~np.isnan(matriz_lst_sub)\n",
        "        nan_data2 = ~np.isnan(matriz_ndvi_sub)\n",
        "        nan_data = nan_data*nan_data2\n",
        "        lst_C_reshape = matriz_lst_sub[nan_data]\n",
        "        ndvi_reshape = matriz_ndvi_sub[nan_data]\n",
        "\n",
        "        lst_regr = []\t#Lista para almacenar los valores de temperatura para la regresión\n",
        "        ndvi_regr = []\t#Lista para almacenar los valores de temperatura para la vegetación\n",
        "        tmin = []\n",
        "        if i%500==0:\n",
        "            print(\"fila %s a %s: calculando deltas\"%(str(i),str(i+ancho_filas)))\n",
        "        \n",
        "        for v in np.arange(min_ndvi,max_ndvi,delta):\n",
        "            #Valores que están en el delta definido\n",
        "            lst_arr = lst_C_reshape[np.where((ndvi_reshape>v) & (ndvi_reshape<=(v+delta)))]\n",
        "            ndvi_arr = ndvi_reshape[np.where((ndvi_reshape>v) & (ndvi_reshape<=(v+delta)))]\n",
        "            \n",
        "            #Ordenar los valores según mayor temperatura\n",
        "            indices = lst_arr.argsort()\n",
        "            lst_arr = lst_arr[indices]\n",
        "            ndvi_arr = ndvi_arr[indices]\n",
        "            \n",
        "            if len(ndvi_arr)>0:\n",
        "                \n",
        "                tmin.append(lst_arr[0]) #Valores bajos de la dispersión (límite húmedo)\n",
        "                lst_regr.append(lst_arr[-cant_px:][0]) #Valores altos de la dispersión (límite seco)\n",
        "                ndvi_regr.append(ndvi_arr[-cant_px:][0]) #Valor equivalente NDVI (límite seco)\n",
        "            else:\n",
        "                pass\n",
        "        \n",
        "        tmin = np.array(tmin)\n",
        "        lst_regr = np.array(lst_regr)\n",
        "        ndvi_regr = np.array(ndvi_regr)\n",
        "        #Regresión lineal\n",
        "        slope, intercept, r_value, p_value, std_err = stats.linregress(ndvi_regr,lst_regr)\n",
        "        \n",
        "        #Cálculo del TVDI\n",
        "        tvdi = (matriz_lst_sub-np.mean(tmin))/(intercept+slope*matriz_ndvi_sub-np.mean(tmin))\n",
        "        if i==0:\n",
        "            matriz_tvdi[i:i+ancho_filas,:] = tvdi\n",
        "        else:\n",
        "            matriz_tvdi[i+ancho_filas//2:i+ancho_filas,:] = tvdi[ancho_filas//2:ancho_filas,:]\n",
        "    #Salida de la imagen georreferenciada\n",
        "    geoTs = ds_lst.GetGeoTransform() #Parámetros de la imagen (coordenadas origen y dimensiones)\n",
        "    driver = gdal.GetDriverByName(\"GTiff\") #Tipo de imagen (geotiff)\n",
        "    prj = ds_lst.GetProjection() #Sistema de referencia de la imagen\n",
        "    print(\"creando imagen\")\n",
        "    #Crear el espacio\n",
        "    export=driver.Create(salida_tvdi,matriz_tvdi.shape[1],matriz_tvdi.shape[0],1,GDT_Float32)\n",
        "    banda=export.GetRasterBand(1) #Cargo la banda creada en el paso anterior\n",
        "    banda.WriteArray(matriz_tvdi) #Escribe los valores de NDVI en la imagen\n",
        "    export.SetGeoTransform(geoTs) #Asigna los parametros de la transformacion a la salida\n",
        "    export.SetProjection(prj) #define la proyección\n",
        "    banda.FlushCache()#descargar de la memoria virtual al disco\n",
        "    export.FlushCache()#descargar de la memoria virtual al disco\n",
        "\n"
      ]
    },
    {
      "cell_type": "code",
      "source": [
        "from time import time\n",
        "a = time()\n",
        "ndvi_fn = '../data/input/ndvi_2022209_500m.tif'\n",
        "lst_fn = '../data/input/lst_Celsius_2022209_500m.tif'\n",
        "output_tvdi = '../data/output/tvdi_2022209_500m.tif'\n",
        "# main_tvdi(ndvi_fn, lst_fn, output_tvdi)\n",
        "# b = time()\n",
        "# print(f'Ejecución finalizada en {b - a} segundos')"
      ],
      "metadata": {
        "id": "k3Qx9sdeTlqx"
      },
      "execution_count": 5,
      "outputs": []
    },
    {
      "cell_type": "code",
      "source": [
        "def getBounds(ds):\n",
        "    width, height = ds.RasterXSize, ds.RasterYSize\n",
        "    xmin, ps_x, _, ymax, _, ps_y = ds.GetGeoTransform()\n",
        "    xmax = xmin + width * ps_x\n",
        "    ymin = ymax + height * ps_y\n",
        "\n",
        "    return xmin, ymin, xmax, ymax"
      ],
      "metadata": {
        "id": "hoCaSLZt4vIG"
      },
      "execution_count": 6,
      "outputs": []
    },
    {
      "cell_type": "code",
      "source": [
        "import matplotlib.pyplot as plt\n",
        "ds = gdal.Open(ndvi_fn)\n",
        "geoTs = ds.GetGeoTransform()\n"
      ],
      "metadata": {
        "id": "F8-WmWQv4Gu0"
      },
      "execution_count": 7,
      "outputs": []
    },
    {
      "cell_type": "code",
      "source": [
        "#!/usr/bin/env python3\n",
        "# -*- coding: utf-8 -*-\n",
        "\n",
        "import numpy as np\n",
        "from osgeo import gdal\n",
        "from gdalconst import *\n",
        "from scipy import stats\n",
        "import sys\n",
        "import os\n",
        "\n",
        "def load_img(filename):\n",
        "\n",
        "    ds = gdal.Open(filename, gdal.GA_ReadOnly)\n",
        "    sds = ds.GetRasterBand(1)\n",
        "    nodata = sds.GetNoDataValue()\n",
        "    sds_array = sds.ReadAsArray()\n",
        "    sds_array[sds_array==nodata] = np.nan\n",
        "    sds_array = sds_array[:2010, :]\n",
        "    rows, cols = sds_array.shape\n",
        "\n",
        "    dict_data = {'array': sds_array,\n",
        "                 'geoTs': ds.GetGeoTransform(),\n",
        "                 'proj': ds.GetProjection(),\n",
        "                 'rows': rows,\n",
        "                 'cols': cols\n",
        "                 }\n",
        "\n",
        "    return dict_data\n",
        "\n",
        "def save_img(fname, array, rows, cols, geoTs, proj, bands=1, dtype=GDT_Float32):\n",
        "    #Salida de la imagen georreferenciada\n",
        "    driver = gdal.GetDriverByName(\"GTiff\") #Tipo de imagen (geotiff)\n",
        "    print(\"creando imagen\")\n",
        "    #Crear el espacio\n",
        "    export = driver.Create(fname, cols, rows, bands, dtype)\n",
        "    banda = export.GetRasterBand(1) #Cargar la banda creada en el paso anterior\n",
        "    banda.WriteArray(array) #Escribir array en la imagen\n",
        "    export.SetGeoTransform(geoTs) #Asignar los parametros de transformacion\n",
        "    export.SetProjection(proj) #Definir la proyección\n",
        "    banda.FlushCache() #Descargar de la memoria virtual al disco\n",
        "    export.FlushCache() #Descargar de la memoria virtual al disco\n",
        "\n",
        "def extract_dry_limit(ndvi, lst, vmin, vmax, px):\n",
        "    #Valores que están en el delta definido\n",
        "    vals = np.where((ndvi > vmin) & (ndvi <= vmax))\n",
        "    lst_arr = lst[vals]\n",
        "    ndvi_arr = ndvi[vals]\n",
        "        \n",
        "    #Ordenar los valores según mayor temperatura\n",
        "    indices = lst_arr.argsort()\n",
        "    lst_arr = lst_arr[indices]\n",
        "    ndvi_arr = ndvi_arr[indices]\n",
        "    tmin, lst_max, ndvi_max = None, None, None\n",
        "\n",
        "    if len(ndvi_arr)>0:\n",
        "        tmin = lst_arr[0] #Valores bajos de la dispersión (límite húmedo)\n",
        "        lst_max = lst_arr[-px:][0] #Valores altos de la dispersión (límite seco)\n",
        "        ndvi_max = ndvi_arr[-px:][0] #Valor equivalente NDVI (límite seco)\n",
        "    \n",
        "    return tmin, lst_max, ndvi_max\n",
        "\n",
        "\n",
        "def calc_tvdi(ndvi, lst, min_ndvi, max_ndvi, delta, px):\n",
        "    #Eliminar valores nulos\n",
        "    nan_data = ~np.isnan(lst)\n",
        "    nan_data2 = ~np.isnan(ndvi)\n",
        "    nan_data = nan_data*nan_data2\n",
        "    lst_C_reshape = lst[nan_data]\n",
        "    ndvi_reshape = ndvi[nan_data]\n",
        "    #Listas para almacenar los valores de lst y ndvi para la regresión\n",
        "    lst_regr = []\n",
        "    ndvi_regr = []\n",
        "    tmin = []\n",
        "    \n",
        "    for v in np.arange(min_ndvi, max_ndvi, delta):\n",
        "        dry_limit = extract_dry_limit(ndvi_reshape, lst_C_reshape, v, v+delta, px)\n",
        "        \n",
        "        if all(dry_limit):\n",
        "            tmin.append(dry_limit[0])\n",
        "            lst_regr.append(dry_limit[1])\n",
        "            ndvi_regr.append(dry_limit[2])\n",
        "    \n",
        "    tmin = np.array(tmin)\n",
        "    lst_regr = np.array(lst_regr)\n",
        "    ndvi_regr = np.array(ndvi_regr)\n",
        "    #Regresión lineal\n",
        "    slope, intercept, r_val, p_val, std_err = stats.linregress(ndvi_regr, lst_regr)\n",
        "        \n",
        "    #Cálculo del TVDI\n",
        "    tvdi = (lst - np.mean(tmin)) / (intercept + slope*ndvi - np.mean(tmin))\n",
        "    return tvdi\n",
        "\n",
        "def main_tvdi(im_ndvi, im_lst, im_tvdi, w_height=2000, min_ndvi=0, px=1, delta=0.01):\n",
        "    '''\n",
        "    im_ndvi: nombre y ruta de imagen de entrada de NDVI\n",
        "    im_lst: nombre y ruta de imagen de entrada de LST\n",
        "    im_tvdi: nombre y ruta de salida de imagen TVDI\n",
        "    w_height: alto de ventana para cálculo del índice\n",
        "    min_ndvi: límite inferior de corte del histograma para calcular límite seco\n",
        "    px: cantidad de pixeles de LST a tener en cuenta (límite seco)\n",
        "    delta: define el paso durante la iteración\n",
        "    '''\n",
        "    #cargar imágenes\n",
        "    ndvi = load_img(im_ndvi)\n",
        "    lst = load_img(im_lst)\n",
        "    lst['array'][lst['array']<=0] = np.nan\n",
        "\n",
        "    ################################\n",
        "    array_tvdi = np.empty_like(ndvi['array'])\n",
        "    \n",
        "    #Parámetros\n",
        "    max_ndvi = np.nanmax(ndvi['array'])\n",
        "    \n",
        "    for i in range(0, ndvi['rows']-w_height+1):\n",
        "\n",
        "        if i%500==0:\n",
        "            print(f'fila {i} a {i + w_height}: calculando deltas')\n",
        "\n",
        "        ndvi_sub = ndvi['array'][i:i+w_height, :]\n",
        "        lst_sub = lst['array'][i:i+w_height, :]\n",
        "        tvdi_sub = calc_tvdi(ndvi_sub, lst_sub, min_ndvi, max_ndvi, delta, px)\n",
        "        idx = w_height//2\n",
        "\n",
        "        if i==0:\n",
        "            array_tvdi[:idx+1, :] = tvdi_sub[:idx+1, :]\n",
        "        elif i+w_height==ndvi['rows']:\n",
        "            array_tvdi[i+idx:, :] = tvdi_sub[idx:, :]\n",
        "        else:\n",
        "            array_tvdi[i+idx, :] = tvdi_sub[idx, :]\n",
        "\n",
        "    save_img(im_tvdi, array_tvdi, ndvi['rows'], ndvi['cols'], ndvi['geoTs'], ndvi['proj'])"
      ],
      "metadata": {
        "id": "KjhLmoFHFCkl"
      },
      "execution_count": 21,
      "outputs": []
    },
    {
      "cell_type": "code",
      "source": [
        "if __name__ == '__main__':\n",
        "    a = time()\n",
        "    \n",
        "    ndvi_fn = '../data/input/ndvi_2022209_500m.tif'\n",
        "    lst_fn = '../data/input/lst_Celsius_2022209_500m.tif'\n",
        "    output_tvdi = '../data/output/tvdi_2022209_500m_fn2.tif'\n",
        "    main_tvdi(ndvi_fn, lst_fn, output_tvdi)\n",
        "    b = time()\n",
        "    print(f'Ejecución finalizada en {b - a} segundos')"
      ],
      "metadata": {
        "id": "Ci1e-xlHHgNj",
        "outputId": "434506f7-d3ad-4bb4-c299-57d62e5a611e",
        "colab": {
          "base_uri": "https://localhost:8080/"
        }
      },
      "execution_count": 22,
      "outputs": [
        {
          "output_type": "stream",
          "name": "stdout",
          "text": [
            "fila 0 a 2000: calculando deltas\n",
            "creando imagen\n",
            "Ejecución finalizada en 15.377901792526245 segundos\n"
          ]
        }
      ]
    },
    {
      "cell_type": "code",
      "source": [
        "from time import time, sleep\n",
        "import multiprocessing as mp\n",
        "import threading as thr\n",
        "\n",
        "\n",
        "def calc_tvdi(q, ndvi, lst, min_ndvi, max_ndvi, delta, px, lock):\n",
        "    #Listas para almacenar los valores de lst y ndvi para la regresión\n",
        "    lst_regr = []\n",
        "    ndvi_regr = []\n",
        "    tmin = []\n",
        "\n",
        "    #Eliminar valores nulos\n",
        "    lock.acquire()\n",
        "    nan_data = ~np.isnan(lst)\n",
        "    nan_data2 = ~np.isnan(ndvi)\n",
        "    nan_data = nan_data*nan_data2\n",
        "\n",
        "    lst_C_reshape = lst[nan_data]\n",
        "    ndvi_reshape = ndvi[nan_data]\n",
        "    \n",
        "    for v in np.arange(min_ndvi, max_ndvi, delta):\n",
        "        dry_limit = extract_dry_limit(ndvi_reshape, lst_C_reshape, v, v+delta, px)\n",
        "        \n",
        "        if all(dry_limit):\n",
        "            tmin.append(dry_limit[0])\n",
        "            lst_regr.append(dry_limit[1])\n",
        "            ndvi_regr.append(dry_limit[2])\n",
        "    \n",
        "    tmin = np.array(tmin)\n",
        "    lst_regr = np.array(lst_regr)\n",
        "    ndvi_regr = np.array(ndvi_regr)\n",
        "    #Regresión lineal\n",
        "    slope, intercept, r_val, p_val, std_err = stats.linregress(ndvi_regr, lst_regr)\n",
        "\n",
        "    #Cálculo del TVDI\n",
        "    tvdi = (lst - np.mean(tmin)) / (intercept + slope*ndvi - np.mean(tmin))\n",
        "    lock.release()\n",
        "\n",
        "    q.put(tvdi)\n",
        "    \n",
        "def main_tvdi(im_ndvi, im_lst, im_tvdi, lock, w_height=2000, min_ndvi=0, px=1, delta=0.01): # Cambio\n",
        "    '''\n",
        "    im_ndvi: nombre y ruta de imagen de entrada de NDVI\n",
        "    im_lst: nombre y ruta de imagen de entrada de LST\n",
        "    im_tvdi: nombre y ruta de salida de imagen TVDI\n",
        "    w_height: alto de ventana para cálculo del índice\n",
        "    min_ndvi: límite inferior de corte del histograma para calcular límite seco\n",
        "    px: cantidad de pixeles de LST a tener en cuenta (límite seco)\n",
        "    delta: define el paso durante la iteración\n",
        "    '''\n",
        "    q = mp.Queue()\n",
        "\n",
        "    #cargar imágenes\n",
        "    ndvi = load_img(im_ndvi)\n",
        "    lst = load_img(im_lst)\n",
        "    lst['array'][lst['array']<=0] = np.nan\n",
        "\n",
        "    ################################\n",
        "    array_tvdi = np.empty_like(ndvi['array'])\n",
        "    \n",
        "    #Parámetros\n",
        "    max_ndvi = np.nanmax(ndvi['array'])\n",
        "    process = list()\n",
        "    for i in range(0, ndvi['rows']-w_height+1):\n",
        "        if i%500==0:\n",
        "            print(f'fila {i} a {i + w_height}: calculando deltas')\n",
        "        ndvi_sub = ndvi['array'][i:i+w_height, :]\n",
        "        lst_sub = lst['array'][i:i+w_height, :]\n",
        "        t = thr.Thread(target=calc_tvdi, args=(q, ndvi_sub, lst_sub, min_ndvi, max_ndvi, delta, px, lock, ))\n",
        "        t.start()\n",
        "        process.append(t)\n",
        "\n",
        "    for i in range(len(process)):\n",
        "\n",
        "        # lock.acquire() # Cambio\n",
        "        tvdi_sub = q.get()\n",
        "\n",
        "        idx = w_height//2\n",
        "\n",
        "        if i==0:\n",
        "            array_tvdi[:idx+1, :] = tvdi_sub[:idx+1, :]\n",
        "        elif i+w_height==ndvi['rows']:\n",
        "            array_tvdi[i+idx:, :] = tvdi_sub[idx:, :]\n",
        "        else:\n",
        "            array_tvdi[i+idx, :] = tvdi_sub[idx, :]\n",
        "\n",
        "        # lock.release() # Cambio\n",
        "        \n",
        "    for t in process: \n",
        "        t.join()\n",
        "\n",
        "###########################################\n",
        "\n",
        "    save_img(im_tvdi, array_tvdi, ndvi['rows'], ndvi['cols'], ndvi['geoTs'], ndvi['proj'])\n",
        "\n",
        "if __name__ == '__main__':\n",
        "    a = time()\n",
        "    P = mp.cpu_count()\n",
        "\n",
        "    manager = mp.Manager()         # Cambio\n",
        "    lock = manager.Lock()\n",
        "\n",
        "    ndvi_fn = '../data/input/ndvi_2022209_500m.tif'\n",
        "    lst_fn = '../data/input/lst_Celsius_2022209_500m.tif'\n",
        "    output_tvdi = '../data/output/tvdi_2022209_500m_fn_op_2.tif'\n",
        "    main_tvdi(ndvi_fn, lst_fn, output_tvdi, lock)\n",
        "    b = time()\n",
        "    print(f'Ejecución finalizada en {b - a} segundos')"
      ],
      "metadata": {
        "id": "JE9RzmTDGa59",
        "colab": {
          "base_uri": "https://localhost:8080/"
        },
        "outputId": "74332336-ecfe-4d90-fad2-c4a4ca420a5d"
      },
      "execution_count": 53,
      "outputs": [
        {
          "output_type": "stream",
          "name": "stdout",
          "text": [
            "fila 0 a 2000: calculando deltas\n",
            "creando imagen\n",
            "Ejecución finalizada en 20.084842443466187 segundos\n"
          ]
        }
      ]
    },
    {
      "cell_type": "code",
      "source": [
        "import matplotlib.pyplot as plt\n",
        "\n",
        "im1 = gdal.Open('../data/output/tvdi_2022209_500m_fn.tif')\n",
        "im2 = gdal.Open(output_tvdi)\n",
        "sds1 = im1.ReadAsArray().flatten()\n",
        "sds2 = im2.ReadAsArray().flatten()\n",
        "plt.scatter(sds1, sds2)\n",
        "plt.show()"
      ],
      "metadata": {
        "id": "YXjwredAcbTF",
        "outputId": "78e7a84e-0595-49fa-b7dc-b05848eb0413",
        "colab": {
          "base_uri": "https://localhost:8080/",
          "height": 269
        }
      },
      "execution_count": 54,
      "outputs": [
        {
          "output_type": "display_data",
          "data": {
            "text/plain": [
              "<Figure size 432x288 with 1 Axes>"
            ],
            "image/png": "[encoded data removed]"
          },
          "metadata": {
            "needs_background": "light"
          }
        }
      ]
    },
    {
      "cell_type": "code",
      "source": [
        "import multiprocessing as mp\n",
        "import threading as thr\n",
        "import numpy as np\n",
        "\n",
        "def suma(q, a, b):\n",
        "    res = a+b\n",
        "    q.put(res)\n",
        "\n",
        "if __name__ == '__main__':\n",
        "    ndvi = np.arange(10)\n",
        "    lst = np.arange(10,20)\n",
        "\n",
        "    tvdi = np.empty_like(ndvi)\n",
        "    lista_t = list()\n",
        "    for i in range(10):\n",
        "        t = thr.Thread(target=suma, args=(q, ndvi[i], lst[i]))\n",
        "        t.start()\n",
        "        lista_t.append(t)\n",
        "    \n",
        "    for i in range(10):\n",
        "        r = q.get()\n",
        "        tvdi[i] = r\n",
        "    \n",
        "    for t in lista_t:\n",
        "        t.join()\n",
        "    \n",
        "    for i in range(10):\n",
        "        print(ndvi[i], lst[i], tvdi[i])\n"
      ],
      "metadata": {
        "id": "i1rgo12LtcJG",
        "outputId": "78fa0b20-c868-445a-8e7b-6decb3b33eba",
        "colab": {
          "base_uri": "https://localhost:8080/"
        }
      },
      "execution_count": 78,
      "outputs": [
        {
          "output_type": "stream",
          "name": "stdout",
          "text": [
            "0 10 10\n",
            "1 11 12\n",
            "2 12 14\n",
            "3 13 16\n",
            "4 14 18\n",
            "5 15 20\n",
            "6 16 22\n",
            "7 17 24\n",
            "8 18 26\n",
            "9 19 28\n"
          ]
        }
      ]
    }
  ]
}