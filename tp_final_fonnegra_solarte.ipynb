{
  "nbformat": 4,
  "nbformat_minor": 0,
  "metadata": {
    "colab": {
      "provenance": [],
      "include_colab_link": true
    },
    "kernelspec": {
      "name": "python3",
      "display_name": "Python 3"
    },
    "language_info": {
      "name": "python"
    },
    "gpuClass": "standard"
  },
  "cells": [
    {
      "cell_type": "markdown",
      "metadata": {
        "id": "view-in-github",
        "colab_type": "text"
      },
      "source": [
        "<a href=\"https://colab.research.google.com/github/EASC/tvdi_hpc/blob/main/tp_final_fonnegra_solarte.ipynb\" target=\"_parent\"><img src=\"https://colab.research.google.com/assets/colab-badge.svg\" alt=\"Open In Colab\"/></a>"
      ]
    },
    {
      "cell_type": "code",
      "source": [
        "from google.colab import drive\n",
        "drive.mount('/content/gdrive')\n",
        "%cd gdrive/MyDrive/cursos/HPC/tp_final/code"
      ],
      "metadata": {
        "colab": {
          "base_uri": "https://localhost:8080/"
        },
        "id": "hcjrb_oWPbA-",
        "outputId": "49a3d972-cd5b-4e50-8bc2-46df8e3b70db"
      },
      "execution_count": null,
      "outputs": [
        {
          "output_type": "stream",
          "name": "stdout",
          "text": [
            "Drive already mounted at /content/gdrive; to attempt to forcibly remount, call drive.mount(\"/content/gdrive\", force_remount=True).\n",
            "[Errno 2] No such file or directory: 'gdrive/MyDrive/cursos/HPC/tp_final/code'\n",
            "/content/gdrive/MyDrive/cursos/HPC/tp_final/code\n"
          ]
        }
      ]
    },
    {
      "cell_type": "code",
      "source": [
        "from time import time, sleep\n",
        "import multiprocessing as mp\n",
        "import threading as thr\n",
        "\n",
        "\n",
        "def calc_tvdi(q, ndvi, lst, min_ndvi, max_ndvi, delta, px, lock):\n",
        "    #Listas para almacenar los valores de lst y ndvi para la regresión\n",
        "    lst_regr = []\n",
        "    ndvi_regr = []\n",
        "    tmin = []\n",
        "\n",
        "    #Eliminar valores nulos\n",
        "    lock.acquire()\n",
        "    nan_data = ~np.isnan(lst)\n",
        "    nan_data2 = ~np.isnan(ndvi)\n",
        "    nan_data = nan_data*nan_data2\n",
        "\n",
        "    lst_C_reshape = lst[nan_data]\n",
        "    ndvi_reshape = ndvi[nan_data]\n",
        "    \n",
        "    for v in np.arange(min_ndvi, max_ndvi, delta):\n",
        "        dry_limit = extract_dry_limit(ndvi_reshape, lst_C_reshape, v, v+delta, px)\n",
        "        \n",
        "        if all(dry_limit):\n",
        "            tmin.append(dry_limit[0])\n",
        "            lst_regr.append(dry_limit[1])\n",
        "            ndvi_regr.append(dry_limit[2])\n",
        "    \n",
        "    tmin = np.array(tmin)\n",
        "    lst_regr = np.array(lst_regr)\n",
        "    ndvi_regr = np.array(ndvi_regr)\n",
        "    #Regresión lineal\n",
        "    slope, intercept, r_val, p_val, std_err = stats.linregress(ndvi_regr, lst_regr)\n",
        "\n",
        "    #Cálculo del TVDI\n",
        "    tvdi = (lst - np.mean(tmin)) / (intercept + slope*ndvi - np.mean(tmin))\n",
        "    lock.release()\n",
        "\n",
        "    q.put(tvdi)\n",
        "    \n",
        "def main_tvdi(im_ndvi, im_lst, im_tvdi, lock, w_height=2000, min_ndvi=0, px=1, delta=0.01): # Cambio\n",
        "    '''\n",
        "    im_ndvi: nombre y ruta de imagen de entrada de NDVI\n",
        "    im_lst: nombre y ruta de imagen de entrada de LST\n",
        "    im_tvdi: nombre y ruta de salida de imagen TVDI\n",
        "    w_height: alto de ventana para cálculo del índice\n",
        "    min_ndvi: límite inferior de corte del histograma para calcular límite seco\n",
        "    px: cantidad de pixeles de LST a tener en cuenta (límite seco)\n",
        "    delta: define el paso durante la iteración\n",
        "    '''\n",
        "    q = mp.Queue()\n",
        "\n",
        "    #cargar imágenes\n",
        "    ndvi = load_img(im_ndvi)\n",
        "    lst = load_img(im_lst)\n",
        "    lst['array'][lst['array']<=0] = np.nan\n",
        "\n",
        "    ################################\n",
        "    array_tvdi = np.empty_like(ndvi['array'])\n",
        "    \n",
        "    #Parámetros\n",
        "    max_ndvi = np.nanmax(ndvi['array'])\n",
        "    process = list()\n",
        "    for i in range(0, ndvi['rows']-w_height+1):\n",
        "        if i%500==0:\n",
        "            print(f'fila {i} a {i + w_height}: calculando deltas')\n",
        "        ndvi_sub = ndvi['array'][i:i+w_height, :]\n",
        "        lst_sub = lst['array'][i:i+w_height, :]\n",
        "        t = thr.Thread(target=calc_tvdi, args=(q, ndvi_sub, lst_sub, min_ndvi, max_ndvi, delta, px, lock, ))\n",
        "        t.start()\n",
        "        process.append(t)\n",
        "\n",
        "    for i in range(len(process)):\n",
        "\n",
        "        # lock.acquire() # Cambio\n",
        "        tvdi_sub = q.get()\n",
        "\n",
        "        idx = w_height//2\n",
        "\n",
        "        if i==0:\n",
        "            array_tvdi[:idx+1, :] = tvdi_sub[:idx+1, :]\n",
        "        elif i+w_height==ndvi['rows']:\n",
        "            array_tvdi[i+idx:, :] = tvdi_sub[idx:, :]\n",
        "        else:\n",
        "            array_tvdi[i+idx, :] = tvdi_sub[idx, :]\n",
        "\n",
        "        # lock.release() # Cambio\n",
        "        \n",
        "    for t in process: \n",
        "        t.join()\n",
        "\n",
        "###########################################\n",
        "\n",
        "    save_img(im_tvdi, array_tvdi, ndvi['rows'], ndvi['cols'], ndvi['geoTs'], ndvi['proj'])\n",
        "\n"
      ],
      "metadata": {
        "id": "JE9RzmTDGa59",
        "colab": {
          "base_uri": "https://localhost:8080/"
        },
        "outputId": "74332336-ecfe-4d90-fad2-c4a4ca420a5d"
      },
      "execution_count": null,
      "outputs": [
        {
          "output_type": "stream",
          "name": "stdout",
          "text": [
            "fila 0 a 2000: calculando deltas\n",
            "creando imagen\n",
            "Ejecución finalizada en 20.084842443466187 segundos\n"
          ]
        }
      ]
    },
    {
      "cell_type": "code",
      "source": [
        "if __name__ == '__main__':\n",
        "    a = time()\n",
        "    P = mp.cpu_count()\n",
        "\n",
        "    manager = mp.Manager()\n",
        "    lock = manager.Lock()\n",
        "\n",
        "    ndvi_fn = '../data/input/ndvi_2022209_500m.tif'\n",
        "    lst_fn = '../data/input/lst_Celsius_2022209_500m.tif'\n",
        "    output_tvdi = '../data/output/tvdi_2022209_500m_fn_op_2.tif'\n",
        "    main_tvdi(ndvi_fn, lst_fn, output_tvdi, lock)\n",
        "    b = time()\n",
        "    print(f'Ejecución finalizada en {b - a} segundos')"
      ],
      "metadata": {
        "id": "fTJbgQBXqYUe"
      },
      "execution_count": null,
      "outputs": []
    }
  ]
}